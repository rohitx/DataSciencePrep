{
 "metadata": {
  "name": "",
  "signature": "sha256:cc66632a08545461664e0ae754cdec58bc27ba18c0f1d7d562044e80a9d37449"
 },
 "nbformat": 3,
 "nbformat_minor": 0,
 "worksheets": [
  {
   "cells": [
    {
     "cell_type": "markdown",
     "metadata": {},
     "source": [
      "# Chapter 2: Accessing Text Corpora and Lexical Resources #\n",
      "\n"
     ]
    }
   ],
   "metadata": {}
  }
 ]
}