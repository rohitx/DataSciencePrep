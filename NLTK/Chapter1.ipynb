{
 "metadata": {
  "name": "",
  "signature": "sha256:44482cc22885a1a6a2da40379f45403beef314887af671d3c468f5707cc62eda"
 },
 "nbformat": 3,
 "nbformat_minor": 0,
 "worksheets": [
  {
   "cells": [
    {
     "cell_type": "markdown",
     "metadata": {},
     "source": [
      "#Chapter 1: Language Processing and Python#\n",
      "\n",
      "In this chapter we will look as how to combine simple programming techniques with large quantities of text, automatically extract key words and phrases that sum up the style and content of a text, and some interesting challenges of natural language processing. \n",
      "\n",
      "For the computer, a text is simply raw data. We need to write programs that help to manipulate and analyze this raw data in a variety of interesting ways.\n",
      "\n",
      "Once NLTK has been installed on the computer let's start the package and download the data required for these chapters:\n",
      "\n",
      "import nltk\n",
      "nltk.download()\n",
      "\n",
      "The commmands may not work in the iPython notebook. Once we have download the data we can import it"
     ]
    },
    {
     "cell_type": "code",
     "collapsed": false,
     "input": [
      "import nltk\n",
      "from nltk.book import *"
     ],
     "language": "python",
     "metadata": {},
     "outputs": [
      {
       "output_type": "stream",
       "stream": "stdout",
       "text": [
        "*** Introductory Examples for the NLTK Book ***\n",
        "Loading text1, ..., text9 and sent1, ..., sent9\n",
        "Type the name of the text or sentence to view it.\n",
        "Type: 'texts()' or 'sents()' to list the materials.\n",
        "text1:"
       ]
      },
      {
       "output_type": "stream",
       "stream": "stdout",
       "text": [
        " Moby Dick by Herman Melville 1851\n",
        "text2:"
       ]
      },
      {
       "output_type": "stream",
       "stream": "stdout",
       "text": [
        " Sense and Sensibility by Jane Austen 1811\n",
        "text3:"
       ]
      },
      {
       "output_type": "stream",
       "stream": "stdout",
       "text": [
        " The Book of Genesis\n",
        "text4:"
       ]
      },
      {
       "output_type": "stream",
       "stream": "stdout",
       "text": [
        " Inaugural Address Corpus\n",
        "text5:"
       ]
      },
      {
       "output_type": "stream",
       "stream": "stdout",
       "text": [
        " Chat Corpus\n",
        "text6:"
       ]
      },
      {
       "output_type": "stream",
       "stream": "stdout",
       "text": [
        " Monty Python and the Holy Grail\n",
        "text7:"
       ]
      },
      {
       "output_type": "stream",
       "stream": "stdout",
       "text": [
        " Wall Street Journal\n",
        "text8: Personals Corpus\n",
        "text9:"
       ]
      },
      {
       "output_type": "stream",
       "stream": "stdout",
       "text": [
        " The Man Who Was Thursday by G . K . Chesterton 1908\n"
       ]
      }
     ],
     "prompt_number": 1
    },
    {
     "cell_type": "markdown",
     "metadata": {},
     "source": [
      "Basically these are books that we will work on in this book. We can reference these books with the text variable. For example, "
     ]
    },
    {
     "cell_type": "code",
     "collapsed": false,
     "input": [
      "text7"
     ],
     "language": "python",
     "metadata": {},
     "outputs": [
      {
       "metadata": {},
       "output_type": "pyout",
       "prompt_number": 2,
       "text": [
        "<Text: Wall Street Journal>"
       ]
      }
     ],
     "prompt_number": 2
    },
    {
     "cell_type": "markdown",
     "metadata": {},
     "source": [
      "## Searching Text##\n",
      "\n",
      "We can search the above books for words with the keyword **concordance**. For example, we can look for the word \"Elizabeth\" in *Sense and Sensibility*"
     ]
    },
    {
     "cell_type": "code",
     "collapsed": false,
     "input": [
      "text2.concordance(\"Elizabeth\")"
     ],
     "language": "python",
     "metadata": {},
     "outputs": [
      {
       "output_type": "stream",
       "stream": "stdout",
       "text": [
        "No matches\n"
       ]
      }
     ],
     "prompt_number": 3
    },
    {
     "cell_type": "code",
     "collapsed": false,
     "input": [
      "# How about the word afraid?\n",
      "text2.concordance(\"afraid\")"
     ],
     "language": "python",
     "metadata": {},
     "outputs": [
      {
       "output_type": "stream",
       "stream": "stdout",
       "text": [
        "Displaying 23 of 23 matches:\n",
        "gence . And besides all this , I am afraid , Mamma , he has no real taste . Mu\n",
        "him perfectly right .\" Marianne was afraid of offending , and said no more on \n",
        "e . Brandon is one of them . He was afraid of catching cold I dare say , and i\n",
        "is winter , Miss Dashwood ?\" \" I am afraid , none at all .\" \" Then I must bid \n",
        "santer morning in my life .\" \" I am afraid ,\" replied Elinor , \" that the plea\n",
        "ee it in his face . Poor man ! I am afraid his circumstances may be bad . The \n",
        "our side of the question ; but I am afraid my practice is much more on your si\n",
        "othing of the picturesque .\" \" I am afraid it is but too true ,\" said Marianne\n",
        "ne , \" for it is so bad a day I was afraid you might not come , which would be\n",
        " the company soon dropt in . \" I am afraid , Miss Marianne ,\" said Sir John , \n",
        "t be about Norland ; and I was only afraid the Miss Dashwoods might find it du\n",
        "and , as he was always particularly afraid of his sister ' s suspecting any th\n",
        "enance suffered no change . \" I was afraid you would think I was taking a grea\n",
        "gstaple , to go to you , that I was afraid you would think him quite ill .\" \" \n",
        "h affected .-- Poor fellow !-- I am afraid it is just the same with him now ; \n",
        " by it ; for I was somehow or other afraid I had offended you by what I told y\n",
        "hby were then in town , but she was afraid of giving him pain by any enquiry a\n",
        "d said , \" I beg your pardon , I am afraid my inquiry has been impertinent ; b\n",
        "at when it came to the point he was afraid Mr . Ferrars would be off ; and whe\n",
        " muslin on !-- I wonder you was not afraid of its being torn .\" Such was her p\n",
        "e Colonel ' s calm voice ,-- \" I am afraid it cannot take place very soon .\" A\n",
        " a distant good ;-- at least , I am afraid it cannot take place very soon .--\"\n",
        "I could not bide any longer ; I was afraid of being late .\" \" Did Mrs . Ferrar\n"
       ]
      }
     ],
     "prompt_number": 4
    },
    {
     "cell_type": "markdown",
     "metadata": {},
     "source": [
      "Here we see that the function **concordance** permits us to see words in context. For example we see that the word afraid is used as: *\"I was afraid you might not come\"* pertaining to doubt, *\"particularly afraid of his sister\"* pertaining to fear, or *I am afraid it is but too true* as a figure of speech. \n",
      "\n",
      "What other words appear in a similar range of contexts?\n",
      "\n",
      "The method **.similar()** allows us to view words in context as the word in the argument. For example the word \"montrous\" appears in both Moby Dick and Sense and Sensibility. However the contexts are different:"
     ]
    },
    {
     "cell_type": "code",
     "collapsed": false,
     "input": [
      "text1.similar(\"monstrous\")"
     ],
     "language": "python",
     "metadata": {},
     "outputs": [
      {
       "output_type": "stream",
       "stream": "stdout",
       "text": [
        "imperial subtly impalpable pitiable curious abundant perilous\n",
        "trustworthy untoward singular lamentable few determined maddens\n",
        "horrible tyrannical lazy mystifying christian exasperate\n"
       ]
      }
     ],
     "prompt_number": 5
    },
    {
     "cell_type": "code",
     "collapsed": false,
     "input": [
      "text2.similar(\"monstrous\")"
     ],
     "language": "python",
     "metadata": {},
     "outputs": [
      {
       "output_type": "stream",
       "stream": "stdout",
       "text": [
        "very exceedingly so heartily a great good amazingly as sweet\n",
        "remarkably extremely vast\n"
       ]
      }
     ],
     "prompt_number": 6
    },
    {
     "cell_type": "markdown",
     "metadata": {},
     "source": [
      "We can also determine the location of a word in the text. This positional information can be displayed using a **dispersion plot**. Running the following command:\n",
      "\n",
      "text4.dispersion_plot([\"citizens\", \"democracy\", \"freedom\", \"duties\", \"America\"])\n",
      "                       \n",
      "produces the following plot:"
     ]
    },
    {
     "cell_type": "code",
     "collapsed": false,
     "input": [
      "from IPython.display import Image\n",
      "Image(filename='figure_1.png') "
     ],
     "language": "python",
     "metadata": {},
     "outputs": [
      {
       "metadata": {},
       "output_type": "pyout",
       "png": "[encoded data removed]",
       "prompt_number": 8,
       "text": [
        "<IPython.core.display.Image at 0x114e70e50>"
       ]
      }
     ],
     "prompt_number": 8
    },
    {
     "cell_type": "markdown",
     "metadata": {},
     "source": [
      "We can find the number of words, punctuations, and symbols with the len() command, just like we do in Python"
     ]
    },
    {
     "cell_type": "code",
     "collapsed": false,
     "input": [
      "len(text2)"
     ],
     "language": "python",
     "metadata": {},
     "outputs": [
      {
       "metadata": {},
       "output_type": "pyout",
       "prompt_number": 12,
       "text": [
        "141576"
       ]
      }
     ],
     "prompt_number": 12
    },
    {
     "cell_type": "markdown",
     "metadata": {},
     "source": [
      "So there are 141,576 words punctuations, and symbols in Sense and Sensibility. Note these punctuations, symbols and words are known as \"tokens\". A **token** is a technical name for a sequence of characters. We treat tokens are a group. So when we count tokens in a text, we count the occurances of these group of sequences. For example, the phrase \"to be or not to be\" has two sets of \"to\", \"be\" and one of each \"not\" and \"or\". But there are only four distinct vocabulary items in this phrase.\n",
      "\n",
      "But how do we find the number of unique vocabulary items in a text? We make use of the **set** function that is in-built in Python. For example, "
     ]
    },
    {
     "cell_type": "code",
     "collapsed": false,
     "input": [
      "len(sorted(set(text2)))"
     ],
     "language": "python",
     "metadata": {},
     "outputs": [
      {
       "metadata": {},
       "output_type": "pyout",
       "prompt_number": 17,
       "text": [
        "6833"
       ]
      }
     ],
     "prompt_number": 17
    },
    {
     "cell_type": "markdown",
     "metadata": {},
     "source": [
      "So we find that there are 6833 unique tokens out of 141,576 tokens. We can calculate the lexical richness of the text. The richness is defined as the frequency of words used in the text. Lower the frequency richer is the text. For Jane Austen's novel we find it to be: "
     ]
    },
    {
     "cell_type": "code",
     "collapsed": false,
     "input": [
      "float(len(text2))/len(sorted(set(text2)))"
     ],
     "language": "python",
     "metadata": {},
     "outputs": [
      {
       "metadata": {},
       "output_type": "pyout",
       "prompt_number": 18,
       "text": [
        "20.719449729255086"
       ]
      }
     ],
     "prompt_number": 18
    },
    {
     "cell_type": "markdown",
     "metadata": {},
     "source": [
      "This means that on average each word is used 20 times in the novel. We can also compute the percertage of text is taken up by a specific word. Let's find how many times the name \"Elinor\" appears in Jane Austen's work. And how much is this as a percentage of the total number of words in this text:"
     ]
    },
    {
     "cell_type": "code",
     "collapsed": false,
     "input": [
      "text2.count(\"Elinor\")"
     ],
     "language": "python",
     "metadata": {},
     "outputs": [
      {
       "metadata": {},
       "output_type": "pyout",
       "prompt_number": 29,
       "text": [
        "684"
       ]
      }
     ],
     "prompt_number": 29
    },
    {
     "cell_type": "code",
     "collapsed": false,
     "input": [
      "# And the percentage:\n",
      "100 * float(text2.count('Elinor')) / len(text2)"
     ],
     "language": "python",
     "metadata": {},
     "outputs": [
      {
       "metadata": {},
       "output_type": "pyout",
       "prompt_number": 31,
       "text": [
        "0.48313273436175624"
       ]
      }
     ],
     "prompt_number": 31
    },
    {
     "cell_type": "code",
     "collapsed": false,
     "input": [
      "# Similarly the number of times the work lol appears in text is:\n",
      "print text5.count(\"lol\")\n",
      "print 100 * float(text5.count(\"lol\")) / len(text5)"
     ],
     "language": "python",
     "metadata": {},
     "outputs": [
      {
       "output_type": "stream",
       "stream": "stdout",
       "text": [
        "704\n",
        "1.56409686736\n"
       ]
      }
     ],
     "prompt_number": 32
    },
    {
     "cell_type": "code",
     "collapsed": false,
     "input": [
      "# Let's look at lexical diversity of all the text by writing a function:\n",
      "def lexical_diversity(text):\n",
      "    return len(text) / float(len(set(text)))\n",
      "\n",
      "# It is ideal to look at the lexical diversity as a percentage of its \n",
      "# length\n",
      "\n",
      "print \"Work 1: {s:.2f}\".format(s = lexical_diversity(text1))\n",
      "print \"Work 2: {s:.2f}\".format(s = lexical_diversity(text2))\n",
      "print \"Work 3: {s:.2f}\".format(s = lexical_diversity(text3))\n",
      "print \"Work 4: {s:.2f}\".format(s = lexical_diversity(text4))\n",
      "print \"Work 5: {s:.2f}\".format(s = lexical_diversity(text5))\n",
      "print \"Work 6: {s:.2f}\".format(s = lexical_diversity(text6))\n",
      "print \"Work 7: {s:.2f}\".format(s = lexical_diversity(text7))\n",
      "print \"Work 8: {s:.2f}\".format(s = lexical_diversity(text8))\n",
      "print \"Work 9: {s:.2f}\".format(s = lexical_diversity(text9))\n"
     ],
     "language": "python",
     "metadata": {},
     "outputs": [
      {
       "output_type": "stream",
       "stream": "stdout",
       "text": [
        "Work 1: 13.50\n",
        "Work 2: 20.72"
       ]
      },
      {
       "output_type": "stream",
       "stream": "stdout",
       "text": [
        "\n",
        "Work 3: 16.05\n",
        "Work 4: 14.94"
       ]
      },
      {
       "output_type": "stream",
       "stream": "stdout",
       "text": [
        "\n",
        "Work 5: 7.42"
       ]
      },
      {
       "output_type": "stream",
       "stream": "stdout",
       "text": [
        "\n",
        "Work 6: 7.83\n",
        "Work 7: 8.11"
       ]
      },
      {
       "output_type": "stream",
       "stream": "stdout",
       "text": [
        "\n",
        "Work 8: 4.39\n",
        "Work 9: 10.17"
       ]
      },
      {
       "output_type": "stream",
       "stream": "stdout",
       "text": [
        "\n"
       ]
      }
     ],
     "prompt_number": 44
    },
    {
     "cell_type": "markdown",
     "metadata": {},
     "source": [
      "## A Closer look at Python: Texts as Lists of Words ##\n",
      "\n",
      "A text is a sequence of symbols on a page. We can group the text as string and have them all togehter in a list. With a list, we can compute various things such as:"
     ]
    },
    {
     "cell_type": "code",
     "collapsed": false,
     "input": [
      "senti = [\"to\", \"be\" ,\"or\", \"not\", \"to\", \"be\"]\n",
      "print len(senti)\n",
      "print lexical_diversity(senti)"
     ],
     "language": "python",
     "metadata": {},
     "outputs": [
      {
       "output_type": "stream",
       "stream": "stdout",
       "text": [
        "6\n",
        "1.5\n"
       ]
      }
     ],
     "prompt_number": 47
    },
    {
     "cell_type": "code",
     "collapsed": false,
     "input": [
      "# We can add two list\n",
      "sent1 = [\"Sense\"]\n",
      "sent2 = [\"and\", \"Sensibility\"]\n",
      "print sent1 + sent2"
     ],
     "language": "python",
     "metadata": {},
     "outputs": [
      {
       "output_type": "stream",
       "stream": "stdout",
       "text": [
        "['Sense', 'and', 'Sensibility']\n"
       ]
      }
     ],
     "prompt_number": 52
    },
    {
     "cell_type": "code",
     "collapsed": false,
     "input": [
      "# We can append to the list:\n",
      "sent2.append(\"Jane\")\n",
      "sent2"
     ],
     "language": "python",
     "metadata": {},
     "outputs": [
      {
       "metadata": {},
       "output_type": "pyout",
       "prompt_number": 53,
       "text": [
        "['and', 'Sensibility', 'Jane']"
       ]
      }
     ],
     "prompt_number": 53
    },
    {
     "cell_type": "code",
     "collapsed": false,
     "input": [
      "# We can index lists:\n",
      "text4[173]"
     ],
     "language": "python",
     "metadata": {},
     "outputs": [
      {
       "metadata": {},
       "output_type": "pyout",
       "prompt_number": 54,
       "text": [
        "u'awaken'"
       ]
      }
     ],
     "prompt_number": 54
    },
    {
     "cell_type": "code",
     "collapsed": false,
     "input": [
      "# we can do converse and find the index of when it first occurs:\n",
      "text4.index('awaken')"
     ],
     "language": "python",
     "metadata": {},
     "outputs": [
      {
       "metadata": {},
       "output_type": "pyout",
       "prompt_number": 55,
       "text": [
        "173"
       ]
      }
     ],
     "prompt_number": 55
    },
    {
     "cell_type": "code",
     "collapsed": false,
     "input": [
      "# We can slice lists:\n",
      "text4[170:175]"
     ],
     "language": "python",
     "metadata": {},
     "outputs": [
      {
       "metadata": {},
       "output_type": "pyout",
       "prompt_number": 56,
       "text": [
        "[u'being', u'sufficient', u'to', u'awaken', u'in']"
       ]
      }
     ],
     "prompt_number": 56
    },
    {
     "cell_type": "code",
     "collapsed": false,
     "input": [],
     "language": "python",
     "metadata": {},
     "outputs": []
    }
   ],
   "metadata": {}
  }
 ]
}