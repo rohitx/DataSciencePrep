{
 "metadata": {
  "name": "",
  "signature": "sha256:b476b3713f4d35ef4bd9029f1debc2fde0fa32484c4033ca9813c7cd4e79a236"
 },
 "nbformat": 3,
 "nbformat_minor": 0,
 "worksheets": [
  {
   "cells": [
    {
     "cell_type": "markdown",
     "metadata": {},
     "source": [
      "# NLTK Tutorial #\n",
      "\n",
      "In this tutorial you will learn the following:\n",
      "\n",
      "* How simple programs can help you manipulate and analyze language data, and how to write these programs\n",
      "* How key concepts from NLP and linguistics are used to describe and analyze language. \n",
      "* How data structures and algorithms are used in NLP\n",
      "* How language data is stored in standard formats, and how data can be used to evaluate the performance of NLP techniques\n",
      "\n"
     ]
    },
    {
     "cell_type": "code",
     "collapsed": false,
     "input": [
      "import nltk\n",
      "text = nltk.word_tokenize(\"And now for something completely different\")\n",
      "nltk.pos_tag(text)"
     ],
     "language": "python",
     "metadata": {},
     "outputs": [
      {
       "metadata": {},
       "output_type": "pyout",
       "prompt_number": 2,
       "text": [
        "[('And', 'CC'),\n",
        " ('now', 'RB'),\n",
        " ('for', 'IN'),\n",
        " ('something', 'NN'),\n",
        " ('completely', 'RB'),\n",
        " ('different', 'JJ')]"
       ]
      }
     ],
     "prompt_number": 2
    },
    {
     "cell_type": "code",
     "collapsed": false,
     "input": [],
     "language": "python",
     "metadata": {},
     "outputs": []
    }
   ],
   "metadata": {}
  }
 ]
}